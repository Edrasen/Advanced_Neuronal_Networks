{
  "nbformat": 4,
  "nbformat_minor": 0,
  "metadata": {
    "colab": {
      "name": "Tarea_red_vanilla_FMNIST_TF2 (EARM).ipynb",
      "provenance": [],
      "include_colab_link": true
    },
    "kernelspec": {
      "name": "python3",
      "display_name": "Python 3"
    },
    "accelerator": "GPU"
  },
  "cells": [
    {
      "cell_type": "markdown",
      "metadata": {
        "id": "view-in-github",
        "colab_type": "text"
      },
      "source": [
        "<a href=\"https://colab.research.google.com/github/Edrasen/Advanced_Neuronal_Networks/blob/main/Tarea_red_vanilla_FMNIST_TF2_(EARM).ipynb\" target=\"_parent\"><img src=\"https://colab.research.google.com/assets/colab-badge.svg\" alt=\"Open In Colab\"/></a>"
      ]
    },
    {
      "cell_type": "markdown",
      "metadata": {
        "id": "BA0FvFe966r9"
      },
      "source": [
        "## Tarea 1_ Red neuronal Perceptrón multicapa  \n",
        "\n",
        "En esta primera tarea es necesario que realicen  un clasificador de prendas de ropa  para esto será necesario usar el  conjunto de entrenamiento Fashion Mnist\n",
        "\n",
        "Este conjunto está conformado por fotografías de 10 diferentes estilos de ropa en imagenes de 28X28 \n",
        "\n",
        "El clasificador debe de ser capaz de separar adecuadamente las diferentes imágenes.  Con este tipo de red se tiene una expectativa de un 97%  de exactitud.\n",
        "\n",
        "    - Realizar la red neuronal programada completamente con TensorFlow\n",
        "    - Realizar la misma arquitectura con Keras  \n",
        "\n",
        "Adjunto encontrarán el código que ya tiene incorporada la lectura del conjunto de datos\n"
      ]
    },
    {
      "cell_type": "code",
      "metadata": {
        "id": "babYmP-H61wB"
      },
      "source": [
        "%tensorflow_version 2.x"
      ],
      "execution_count": 1,
      "outputs": []
    },
    {
      "cell_type": "code",
      "metadata": {
        "id": "nP5zZjkD7sWw"
      },
      "source": [
        "import tensorflow as tf\n",
        "import numpy as np\n",
        "import matplotlib.pyplot as plt\n",
        "from tensorflow.keras.utils import to_categorical\n",
        "from sklearn.preprocessing import LabelEncoder\n",
        "from sklearn.preprocessing import OneHotEncoder\n",
        "%matplotlib inline"
      ],
      "execution_count": 2,
      "outputs": []
    },
    {
      "cell_type": "code",
      "metadata": {
        "id": "cl5FegN27wzO"
      },
      "source": [
        "from tensorflow.keras.datasets.fashion_mnist import load_data\n",
        "fashion_mnist = load_data()\n",
        "#read_data_sets(\"exercice/data\", one_hot = True)"
      ],
      "execution_count": 3,
      "outputs": []
    },
    {
      "cell_type": "markdown",
      "metadata": {
        "id": "wq-Bj_Kar14P"
      },
      "source": [
        "## Separando el conjunto de datos en Entrenamiento y prueba "
      ]
    },
    {
      "cell_type": "code",
      "metadata": {
        "id": "Pjokko6Mr14Q"
      },
      "source": [
        "(x_train, y_train), (x_test, y_test)=fashion_mnist"
      ],
      "execution_count": 4,
      "outputs": []
    },
    {
      "cell_type": "code",
      "metadata": {
        "id": "2_1FAsMYr14W",
        "colab": {
          "base_uri": "https://localhost:8080/"
        },
        "outputId": "1963e4e1-8131-4955-fef4-a1f535b71a75"
      },
      "source": [
        "x_train.shape"
      ],
      "execution_count": 5,
      "outputs": [
        {
          "output_type": "execute_result",
          "data": {
            "text/plain": [
              "(60000, 28, 28)"
            ]
          },
          "metadata": {
            "tags": []
          },
          "execution_count": 5
        }
      ]
    },
    {
      "cell_type": "code",
      "metadata": {
        "id": "pwUO3WIUr14b"
      },
      "source": [
        "imagendemo=x_train[1,:,:]"
      ],
      "execution_count": 6,
      "outputs": []
    },
    {
      "cell_type": "code",
      "metadata": {
        "id": "OkOVIgvnr14g",
        "colab": {
          "base_uri": "https://localhost:8080/",
          "height": 282
        },
        "outputId": "4de61d28-8e33-435b-98df-4aecc92fbc2d"
      },
      "source": [
        "plt.imshow(imagendemo,cmap='gray')"
      ],
      "execution_count": 7,
      "outputs": [
        {
          "output_type": "execute_result",
          "data": {
            "text/plain": [
              "<matplotlib.image.AxesImage at 0x7f8082d35c10>"
            ]
          },
          "metadata": {
            "tags": []
          },
          "execution_count": 7
        },
        {
          "output_type": "display_data",
          "data": {
            "image/png": "[encoded data removed]",
            "text/plain": [
              "<Figure size 432x288 with 1 Axes>"
            ]
          },
          "metadata": {
            "tags": [],
            "needs_background": "light"
          }
        }
      ]
    },
    {
      "cell_type": "code",
      "metadata": {
        "colab": {
          "base_uri": "https://localhost:8080/"
        },
        "id": "eI7X4cOYwgkX",
        "outputId": "f77087bc-daf7-4e0c-a7b3-0c9062f4f173"
      },
      "source": [
        "y_train[3]"
      ],
      "execution_count": 8,
      "outputs": [
        {
          "output_type": "execute_result",
          "data": {
            "text/plain": [
              "3"
            ]
          },
          "metadata": {
            "tags": []
          },
          "execution_count": 8
        }
      ]
    },
    {
      "cell_type": "markdown",
      "metadata": {
        "id": "JwRo-mx_r14l"
      },
      "source": [
        "Las etiquetas numéricas pueden ser transformadas al nombre de la clase correspondiente usando el siguiente diccionario "
      ]
    },
    {
      "cell_type": "code",
      "metadata": {
        "id": "ypNFROm8r14m"
      },
      "source": [
        "label_dict = {\n",
        " 0: \"T-shirt/top\",\n",
        " 1: \"Trouser\",\n",
        " 2: \"Pullover\",\n",
        " 3: \"Dress\",\n",
        " 4: \"Coat\",\n",
        " 5: \"Sandal\",\n",
        " 6: \"Shirt\",\n",
        " 7: \"Sneaker\",\n",
        " 8: \"Bag\",\n",
        " 9: \"Ankle boot\"\n",
        "}"
      ],
      "execution_count": 9,
      "outputs": []
    },
    {
      "cell_type": "code",
      "metadata": {
        "colab": {
          "base_uri": "https://localhost:8080/"
        },
        "id": "qXYNwtilqt6i",
        "outputId": "dbddb7bf-505d-4631-8d87-e2ef693a8763"
      },
      "source": [
        "y_train[5]"
      ],
      "execution_count": 10,
      "outputs": [
        {
          "output_type": "execute_result",
          "data": {
            "text/plain": [
              "2"
            ]
          },
          "metadata": {
            "tags": []
          },
          "execution_count": 10
        }
      ]
    },
    {
      "cell_type": "markdown",
      "metadata": {
        "id": "FnrW8YiWO0ql"
      },
      "source": [
        "# Preparando los datos para el entrenamiento"
      ]
    },
    {
      "cell_type": "code",
      "metadata": {
        "id": "56SR2AF5NkCb"
      },
      "source": [
        "x_train = x_train.reshape(60000,784).astype('float32')\n",
        "x_test = x_test.reshape(10000,784).astype('float32')"
      ],
      "execution_count": 11,
      "outputs": []
    },
    {
      "cell_type": "code",
      "metadata": {
        "colab": {
          "base_uri": "https://localhost:8080/"
        },
        "id": "7mnVuDDoN-2s",
        "outputId": "896efac5-729d-4450-d08f-db146d34bacc"
      },
      "source": [
        "print(x_train.shape)\n",
        "x_train"
      ],
      "execution_count": 12,
      "outputs": [
        {
          "output_type": "stream",
          "text": [
            "(60000, 784)\n"
          ],
          "name": "stdout"
        },
        {
          "output_type": "execute_result",
          "data": {
            "text/plain": [
              "array([[0., 0., 0., ..., 0., 0., 0.],\n",
              "       [0., 0., 0., ..., 0., 0., 0.],\n",
              "       [0., 0., 0., ..., 0., 0., 0.],\n",
              "       ...,\n",
              "       [0., 0., 0., ..., 0., 0., 0.],\n",
              "       [0., 0., 0., ..., 0., 0., 0.],\n",
              "       [0., 0., 0., ..., 0., 0., 0.]], dtype=float32)"
            ]
          },
          "metadata": {
            "tags": []
          },
          "execution_count": 12
        }
      ]
    },
    {
      "cell_type": "code",
      "metadata": {
        "colab": {
          "base_uri": "https://localhost:8080/"
        },
        "id": "0uYs9zvfOHHl",
        "outputId": "f28e573a-f1b1-43e7-f9f4-0031d7731c0a"
      },
      "source": [
        "print(x_test.shape)\n",
        "x_test"
      ],
      "execution_count": 13,
      "outputs": [
        {
          "output_type": "stream",
          "text": [
            "(10000, 784)\n"
          ],
          "name": "stdout"
        },
        {
          "output_type": "execute_result",
          "data": {
            "text/plain": [
              "array([[0., 0., 0., ..., 0., 0., 0.],\n",
              "       [0., 0., 0., ..., 0., 0., 0.],\n",
              "       [0., 0., 0., ..., 0., 0., 0.],\n",
              "       ...,\n",
              "       [0., 0., 0., ..., 0., 0., 0.],\n",
              "       [0., 0., 0., ..., 0., 0., 0.],\n",
              "       [0., 0., 0., ..., 0., 0., 0.]], dtype=float32)"
            ]
          },
          "metadata": {
            "tags": []
          },
          "execution_count": 13
        }
      ]
    },
    {
      "cell_type": "code",
      "metadata": {
        "id": "amghUv2NOx42"
      },
      "source": [
        "#y_train = to_categorical(y_train, num_classes=10)\n",
        "#y_test = to_categorical(y_test, num_classes=10)"
      ],
      "execution_count": 14,
      "outputs": []
    },
    {
      "cell_type": "code",
      "metadata": {
        "colab": {
          "base_uri": "https://localhost:8080/"
        },
        "id": "ZND-vPfa-LH0",
        "outputId": "d3440abd-b4e1-4d14-de81-0f41307e38f7"
      },
      "source": [
        "# onehot encode\n",
        "onehot_encoder = OneHotEncoder(sparse=False)\n",
        "y_train = y_train.reshape(len(y_train), 1)\n",
        "y_train_onehot = onehot_encoder.fit_transform(y_train)\n",
        "\n",
        "y_test = y_test.reshape(len(y_test), 1)\n",
        "y_test_onehot = onehot_encoder.fit_transform(y_test)\n",
        "\n",
        "y_train_onehot.shape"
      ],
      "execution_count": 15,
      "outputs": [
        {
          "output_type": "execute_result",
          "data": {
            "text/plain": [
              "(60000, 10)"
            ]
          },
          "metadata": {
            "tags": []
          },
          "execution_count": 15
        }
      ]
    },
    {
      "cell_type": "code",
      "metadata": {
        "colab": {
          "base_uri": "https://localhost:8080/"
        },
        "id": "yTCrsKYWRXDH",
        "outputId": "d55766d9-d98e-49ef-f5a5-af631421ce24"
      },
      "source": [
        "y_train_onehot[1]"
      ],
      "execution_count": 16,
      "outputs": [
        {
          "output_type": "execute_result",
          "data": {
            "text/plain": [
              "array([1., 0., 0., 0., 0., 0., 0., 0., 0., 0.])"
            ]
          },
          "metadata": {
            "tags": []
          },
          "execution_count": 16
        }
      ]
    },
    {
      "cell_type": "code",
      "metadata": {
        "colab": {
          "base_uri": "https://localhost:8080/"
        },
        "id": "iUfcUJYDRZ-h",
        "outputId": "b87a08c4-697c-4b77-8d6f-bc272478b124"
      },
      "source": [
        "y_test_onehot[1]"
      ],
      "execution_count": 17,
      "outputs": [
        {
          "output_type": "execute_result",
          "data": {
            "text/plain": [
              "array([0., 0., 1., 0., 0., 0., 0., 0., 0., 0.])"
            ]
          },
          "metadata": {
            "tags": []
          },
          "execution_count": 17
        }
      ]
    },
    {
      "cell_type": "markdown",
      "metadata": {
        "id": "Xt5gmRlGr14w"
      },
      "source": [
        "# Declarando la arquitectura"
      ]
    },
    {
      "cell_type": "code",
      "metadata": {
        "id": "2_78GdY7aLZ5"
      },
      "source": [
        "class DNN_model(object):\n",
        "  def __init__(self,\n",
        "               n_nodes_hl1=1200,\n",
        "               n_nodes_hl2=1200,\n",
        "               n_nodes_hl3=1200,\n",
        "               n_classes=10):\n",
        "    self.h1LW = tf.Variable(np.random.rand(784, n_nodes_hl1),name=\"hl1weigths\",dtype=\"float32\")\n",
        "    self.h1LB = tf.Variable(np.random.rand(n_nodes_hl1),name=\"hl1bias\",dtype=\"float32\")\n",
        "\n",
        "    self.h2LW = tf.Variable(np.random.rand(n_nodes_hl1, n_nodes_hl2),name=\"hl2weigths\",dtype=\"float32\")\n",
        "    self.h2LB = tf.Variable(np.random.rand(n_nodes_hl2),name=\"hl2bias\",dtype=\"float32\")\n",
        "\n",
        "    self.h3LW = tf.Variable(np.random.rand(n_nodes_hl2, n_nodes_hl3),name=\"hl3weigths\",dtype=\"float32\")\n",
        "    self.h3LB = tf.Variable(np.random.rand(n_nodes_hl3),name=\"hl3bias\",dtype=\"float32\")\n",
        "\n",
        "    self.outW = tf.Variable(np.random.rand(n_nodes_hl3, n_classes),name=\"outweigths\",dtype=\"float32\")\n",
        "    self.outB = tf.Variable(np.random.rand(n_classes),name=\"outbias\",dtype=\"float32\")\n",
        "    \n",
        "    self.trainable_variables =[self.h1LW,self.h1LB,self.h2LW,self.h2LB,self.h3LW,self.h3LB,self.outW,self.outB]          \n",
        "  def __call__(self,x): \n",
        "      # Declarando la arquitectura\n",
        "\n",
        "      l1 = tf.add(tf.matmul(x,self.h1LW), self.h1LB)\n",
        "      l1 = tf.nn.relu(l1)\n",
        "\n",
        "      l2 = tf.add(tf.matmul(l1,self.h2LW), self.h2LB)\n",
        "      l2 = tf.nn.relu(l2)\n",
        "\n",
        "      l3 = tf.add(tf.matmul(l2,self.h3LW), self.h3LB)\n",
        "      l3 = tf.nn.relu(l3)\n",
        "\n",
        "      output = tf.matmul(l3,self.outW) + self.outB\n",
        "      return output"
      ],
      "execution_count": 18,
      "outputs": []
    },
    {
      "cell_type": "code",
      "metadata": {
        "colab": {
          "base_uri": "https://localhost:8080/"
        },
        "id": "oWwv1x1-dv_D",
        "outputId": "1ce8a10a-5271-47a1-a0bf-981ee9c614db"
      },
      "source": [
        "DNN = DNN_model()\n",
        "DNN(x_train)"
      ],
      "execution_count": 19,
      "outputs": [
        {
          "output_type": "execute_result",
          "data": {
            "text/plain": [
              "<tf.Tensor: shape=(60000, 10), dtype=float32, numpy=\n",
              "array([[8.1952055e+12, 8.3029247e+12, 8.4663148e+12, ..., 8.1959961e+12,\n",
              "        8.2801134e+12, 8.2844320e+12],\n",
              "       [9.1054292e+12, 9.2251147e+12, 9.4066516e+12, ..., 9.1063079e+12,\n",
              "        9.1997696e+12, 9.2045679e+12],\n",
              "       [3.0848414e+12, 3.1253903e+12, 3.1868925e+12, ..., 3.0851389e+12,\n",
              "        3.1168036e+12, 3.1184283e+12],\n",
              "       ...,\n",
              "       [6.7229885e+12, 6.8113578e+12, 6.9453957e+12, ..., 6.7236392e+12,\n",
              "        6.7926449e+12, 6.7961860e+12],\n",
              "       [3.6070949e+12, 3.6545068e+12, 3.7264236e+12, ..., 3.6074428e+12,\n",
              "        3.6444672e+12, 3.6463683e+12],\n",
              "       [1.7917457e+12, 1.8152978e+12, 1.8510191e+12, ..., 1.7919191e+12,\n",
              "        1.8103092e+12, 1.8112541e+12]], dtype=float32)>"
            ]
          },
          "metadata": {
            "tags": []
          },
          "execution_count": 19
        }
      ]
    },
    {
      "cell_type": "markdown",
      "metadata": {
        "id": "XbOwJtRnf3yS"
      },
      "source": [
        "Select an optimizer"
      ]
    },
    {
      "cell_type": "code",
      "metadata": {
        "id": "gnnctLlEf2aV"
      },
      "source": [
        "optimizador = tf.keras.optimizers.Adam(learning_rate=0.001)\n",
        "#optimizador = tf.compat.v1.train.AdamOptimizer(learning_rate=0.001)"
      ],
      "execution_count": 20,
      "outputs": []
    },
    {
      "cell_type": "code",
      "metadata": {
        "id": "S98qe0dkgHm9"
      },
      "source": [
        "train_loss = tf.keras.metrics.Mean(name='train_loss')\n",
        "train_accuracy = tf.keras.metrics.CategoricalAccuracy(name='train_accuracy')\n",
        "\n",
        "test_loss = tf.keras.metrics.Mean(name='test_loss')\n",
        "test_accuracy = tf.keras.metrics.CategoricalAccuracy(name='test_accuracy')"
      ],
      "execution_count": 21,
      "outputs": []
    },
    {
      "cell_type": "code",
      "metadata": {
        "id": "xKsv8dndgk12"
      },
      "source": [
        "#@tf.function\n",
        "def train_step(model,tdata,labels):\n",
        "  with tf.GradientTape() as tape:\n",
        "    predictions = model(tdata)\n",
        "    #error function\n",
        "    loss = tf.reduce_mean(tf.nn.softmax_cross_entropy_with_logits(labels, predictions))\n",
        "\n",
        "  gradients = tape.gradient(loss, model.trainable_variables)\n",
        "  capped_grads_and_vars = [(grad, model.trainable_variables[index]) for index, grad in enumerate(gradients)]\n",
        "  optimizador.apply_gradients(capped_grads_and_vars)\n",
        "  train_loss(loss)\n",
        "  train_accuracy(labels, predictions)"
      ],
      "execution_count": 22,
      "outputs": []
    },
    {
      "cell_type": "code",
      "metadata": {
        "id": "o00PXWJLidkg"
      },
      "source": [
        "#@tf.function\n",
        "def test_step(model, tdata, labels):\n",
        "  predictions = model(tdata)\n",
        "  t_loss = tf.reduce_mean(tf.nn.softmax_cross_entropy_with_logits(labels, predictions))\n",
        "\n",
        "  test_loss(t_loss)\n",
        "  test_accuracy(labels, predictions)"
      ],
      "execution_count": 23,
      "outputs": []
    },
    {
      "cell_type": "code",
      "metadata": {
        "id": "EqoUSNJmmWy_"
      },
      "source": [
        "def next_bach(s,e):\n",
        "  return x_train[s:e], y_train[s:e]"
      ],
      "execution_count": 24,
      "outputs": []
    },
    {
      "cell_type": "markdown",
      "metadata": {
        "id": "BZEYYNutjIGs"
      },
      "source": [
        "# Training and testing function"
      ]
    },
    {
      "cell_type": "code",
      "metadata": {
        "id": "Jk7gJKoPjT1m"
      },
      "source": [
        "def fitting(model, train_x, train_y, test_x, test_y, EPOCHS, N_batch, batch_size):\n",
        "  for epoch in range(EPOCHS):\n",
        "    i = 0\n",
        "    while i+batch_size < len(train_x) or i+batch_size < batch_size*N_batch:\n",
        "      start = i\n",
        "      end = i + batch_size\n",
        "      batch_x, batch_y = train_x[start:end], train_y[start:end]\n",
        "      train_step(model, batch_x, batch_y)\n",
        "      i+=batch_size\n",
        "    \n",
        "    test_step(model, test_x, test_y)\n",
        "\n",
        "    template = 'Epoch {}, Perdida: {}, Exactitud: {}, Perdida de prueba: {}, Exactitud de prueba: {}'\n",
        "    print(template.format(epoch+1,\n",
        "                         train_loss.result(),\n",
        "                        train_accuracy.result()*100,\n",
        "                        test_loss.result(),\n",
        "                        test_accuracy.result()*100))\n",
        "    train_loss.reset_states()\n",
        "    train_accuracy.reset_states()\n",
        "    test_loss.reset_states()\n",
        "    test_accuracy.reset_states()"
      ],
      "execution_count": 25,
      "outputs": []
    },
    {
      "cell_type": "code",
      "metadata": {
        "colab": {
          "base_uri": "https://localhost:8080/"
        },
        "id": "qsGBCq_FntFh",
        "outputId": "faa22665-a212-4618-c5b4-05ae5ec0997f"
      },
      "source": [
        "fitting(DNN, x_train, y_train_onehot, x_test, y_test_onehot, 10, 600, 100)"
      ],
      "execution_count": 26,
      "outputs": [
        {
          "output_type": "stream",
          "text": [
            "Epoch 1, Perdida: 8052542976.0, Exactitud: 10.115192413330078, Perdida de prueba: 2348714496.0, Exactitud de prueba: 10.0\n",
            "Epoch 2, Perdida: 1654398336.0, Exactitud: 10.35726261138916, Perdida de prueba: 389747040.0, Exactitud de prueba: 10.0\n",
            "Epoch 3, Perdida: 185629648.0, Exactitud: 19.65776252746582, Perdida de prueba: 8584520.0, Exactitud de prueba: 44.93000030517578\n",
            "Epoch 4, Perdida: 6249824.0, Exactitud: 49.55592727661133, Perdida de prueba: 5346227.0, Exactitud de prueba: 61.04999923706055\n",
            "Epoch 5, Perdida: 2437557.75, Exactitud: 63.39733123779297, Perdida de prueba: 1895720.5, Exactitud de prueba: 66.8499984741211\n",
            "Epoch 6, Perdida: 1396047.0, Exactitud: 67.61268615722656, Perdida de prueba: 1707023.625, Exactitud de prueba: 63.27000427246094\n",
            "Epoch 7, Perdida: 840776.0625, Exactitud: 71.65776824951172, Perdida de prueba: 911242.25, Exactitud de prueba: 71.56999969482422\n",
            "Epoch 8, Perdida: 426357.40625, Exactitud: 75.96160125732422, Perdida de prueba: 381973.0, Exactitud de prueba: 73.07999420166016\n",
            "Epoch 9, Perdida: 243246.765625, Exactitud: 77.50918579101562, Perdida de prueba: 175709.84375, Exactitud de prueba: 77.80000305175781\n",
            "Epoch 10, Perdida: 124211.21875, Exactitud: 79.48413848876953, Perdida de prueba: 83795.9453125, Exactitud de prueba: 81.16999816894531\n"
          ],
          "name": "stdout"
        }
      ]
    }
  ]
}