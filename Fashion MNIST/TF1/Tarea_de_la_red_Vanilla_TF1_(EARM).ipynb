{
  "nbformat": 4,
  "nbformat_minor": 0,
  "metadata": {
    "colab": {
      "name": "Tarea_de_la_red_Vanilla_TF1 (EARM).ipynb",
      "provenance": [],
      "collapsed_sections": [],
      "include_colab_link": true
    },
    "kernelspec": {
      "display_name": "Python 3",
      "language": "python",
      "name": "python3"
    },
    "accelerator": "GPU"
  },
  "cells": [
    {
      "cell_type": "markdown",
      "metadata": {
        "id": "view-in-github",
        "colab_type": "text"
      },
      "source": [
        "<a href=\"https://colab.research.google.com/github/Edrasen/Advanced_Neuronal_Networks/blob/main/Tarea_de_la_red_Vanilla_TF1_(EARM).ipynb\" target=\"_parent\"><img src=\"https://colab.research.google.com/assets/colab-badge.svg\" alt=\"Open In Colab\"/></a>"
      ]
    },
    {
      "cell_type": "markdown",
      "metadata": {
        "id": "4M5Lj0b9jNaG"
      },
      "source": [
        "## Tarea 1_ Red neuronal Perceptrón multicapa  \n",
        "\n",
        "En esta primera tarea es necesario que realicen  un clasificador de prendas de ropa  para esto será necesario usar el  conjunto de entrenamiento Fashion Mnist\n",
        "\n",
        "Este conjunto está conformado por fotografías de 10 diferentes estilos de ropa en imagenes de 28X28 \n",
        "\n",
        "El clasificador debe de ser capaz de separar adecuadamente las diferentes imágenes.  Con este tipo de red se tiene una expectativa de un 97%  de exactitud.\n",
        "\n",
        "    - Realizar la red neuronal programada completamente con TensorFlow\n",
        "    - Realizar la misma arquitectura con Keras  \n",
        "\n",
        "Adjunto encontrarán el código que ya tiene incorporada la lectura del conjunto de datos\n"
      ]
    },
    {
      "cell_type": "code",
      "metadata": {
        "id": "kMHueSlQkIeY",
        "colab": {
          "base_uri": "https://localhost:8080/"
        },
        "outputId": "2832b231-ed34-4bd1-c4b5-35b24f665f20"
      },
      "source": [
        "%tensorflow_version 1.x"
      ],
      "execution_count": 1,
      "outputs": [
        {
          "output_type": "stream",
          "text": [
            "TensorFlow 1.x selected.\n"
          ],
          "name": "stdout"
        }
      ]
    },
    {
      "cell_type": "code",
      "metadata": {
        "id": "eH3DG58ijNaH",
        "colab": {
          "base_uri": "https://localhost:8080/"
        },
        "outputId": "b7c32245-71eb-4dac-85ef-246b9cb04b57"
      },
      "source": [
        "import tensorflow as tf\n",
        "import numpy as np\n",
        "import matplotlib.pyplot as plt\n",
        "from keras.utils import to_categorical\n",
        "%matplotlib inline"
      ],
      "execution_count": 2,
      "outputs": [
        {
          "output_type": "stream",
          "text": [
            "Using TensorFlow backend.\n"
          ],
          "name": "stderr"
        }
      ]
    },
    {
      "cell_type": "markdown",
      "metadata": {
        "id": "3_r9CetUjNaM"
      },
      "source": [
        "## Lectura del conjunto de datos "
      ]
    },
    {
      "cell_type": "code",
      "metadata": {
        "id": "c_aVHNInjNaM"
      },
      "source": [
        "from tensorflow.keras.datasets.fashion_mnist import load_data\n",
        "fashion_mnist = load_data()"
      ],
      "execution_count": 3,
      "outputs": []
    },
    {
      "cell_type": "markdown",
      "metadata": {
        "id": "rGPrEVaNjNaS"
      },
      "source": [
        "## Separando el conjunto de datos en Entrenamiento y prueba "
      ]
    },
    {
      "cell_type": "code",
      "metadata": {
        "id": "xISFxwdKjNaT"
      },
      "source": [
        "(x_train, y_train), (x_test, y_test)=fashion_mnist"
      ],
      "execution_count": 4,
      "outputs": []
    },
    {
      "cell_type": "markdown",
      "metadata": {
        "id": "6HgclF9djNaW"
      },
      "source": [
        "Analizando el conjunto de Fashion_mnist"
      ]
    },
    {
      "cell_type": "code",
      "metadata": {
        "id": "eg58cwGVjNaX"
      },
      "source": [
        "x_train.resize(60000,784)"
      ],
      "execution_count": 5,
      "outputs": []
    },
    {
      "cell_type": "code",
      "metadata": {
        "id": "MS3UWonITwjr"
      },
      "source": [
        "x_test.resize(10000,784)"
      ],
      "execution_count": 6,
      "outputs": []
    },
    {
      "cell_type": "code",
      "metadata": {
        "colab": {
          "base_uri": "https://localhost:8080/"
        },
        "id": "7cJWSwMEaFyW",
        "outputId": "fa5f9dcf-09e4-461f-a585-58e9df932b25"
      },
      "source": [
        "print(x_train.shape)\n",
        "print(x_test.shape)"
      ],
      "execution_count": 7,
      "outputs": [
        {
          "output_type": "stream",
          "text": [
            "(60000, 784)\n",
            "(10000, 784)\n"
          ],
          "name": "stdout"
        }
      ]
    },
    {
      "cell_type": "code",
      "metadata": {
        "id": "oCKVbswkvw8l"
      },
      "source": [
        "#x_train = x_train * (1/255.0)\n",
        "x_train = x_train/255\n",
        "x_test = x_test/255\n",
        "#x_test = x_test * (1/255.0)"
      ],
      "execution_count": 8,
      "outputs": []
    },
    {
      "cell_type": "code",
      "metadata": {
        "id": "XfoRfCGa9-fb"
      },
      "source": [
        "y_train = to_categorical(y_train, num_classes=10)\n",
        "y_test = to_categorical(y_test, num_classes=10)"
      ],
      "execution_count": 9,
      "outputs": []
    },
    {
      "cell_type": "code",
      "metadata": {
        "colab": {
          "base_uri": "https://localhost:8080/"
        },
        "id": "DLV824To1nTl",
        "outputId": "9e7aa857-2c8a-4690-b02c-ec8db9288401"
      },
      "source": [
        "x_train = x_train.astype('float32')\n",
        "x_test = x_test.astype('float32')\n",
        "print(x_train.dtype)\n",
        "print(x_test.dtype)"
      ],
      "execution_count": 10,
      "outputs": [
        {
          "output_type": "stream",
          "text": [
            "float32\n",
            "float32\n"
          ],
          "name": "stdout"
        }
      ]
    },
    {
      "cell_type": "code",
      "metadata": {
        "id": "b7cbCu5yjNab"
      },
      "source": [
        "imagendemo=np.reshape(x_train[5,:],(28,28))"
      ],
      "execution_count": 11,
      "outputs": []
    },
    {
      "cell_type": "code",
      "metadata": {
        "id": "0DIV1V6UjNae",
        "colab": {
          "base_uri": "https://localhost:8080/",
          "height": 281
        },
        "outputId": "951629ea-57be-47a1-e6df-6ed6ad88bc2d"
      },
      "source": [
        "plt.imshow(imagendemo,cmap='gray')"
      ],
      "execution_count": 12,
      "outputs": [
        {
          "output_type": "execute_result",
          "data": {
            "text/plain": [
              "<matplotlib.image.AxesImage at 0x7ff78c36a310>"
            ]
          },
          "metadata": {
            "tags": []
          },
          "execution_count": 12
        },
        {
          "output_type": "display_data",
          "data": {
            "image/png": "[encoded data removed]",
            "text/plain": [
              "<Figure size 432x288 with 1 Axes>"
            ]
          },
          "metadata": {
            "tags": [],
            "needs_background": "light"
          }
        }
      ]
    },
    {
      "cell_type": "markdown",
      "metadata": {
        "id": "Fn5aH2NdjNai"
      },
      "source": [
        "Las etiquetas numéricas pueden ser transformadas al nombre de la clase correspondiente usando el siguiente diccionario "
      ]
    },
    {
      "cell_type": "code",
      "metadata": {
        "id": "spo3e07vjNaj"
      },
      "source": [
        "label_dict = {\n",
        " 0: \"T-shirt/top\",\n",
        " 1: \"Trouser\",\n",
        " 2: \"Pullover\",\n",
        " 3: \"Dress\",\n",
        " 4: \"Coat\",\n",
        " 5: \"Sandal\",\n",
        " 6: \"Shirt\",\n",
        " 7: \"Sneaker\",\n",
        " 8: \"Bag\",\n",
        " 9: \"Ankle boot\"\n",
        "}"
      ],
      "execution_count": 13,
      "outputs": []
    },
    {
      "cell_type": "code",
      "metadata": {
        "id": "-1-fvDkajNam",
        "colab": {
          "base_uri": "https://localhost:8080/"
        },
        "outputId": "bc4fb34a-56ee-4ce3-8c85-17562711a432"
      },
      "source": [
        "label_dict"
      ],
      "execution_count": 14,
      "outputs": [
        {
          "output_type": "execute_result",
          "data": {
            "text/plain": [
              "{0: 'T-shirt/top',\n",
              " 1: 'Trouser',\n",
              " 2: 'Pullover',\n",
              " 3: 'Dress',\n",
              " 4: 'Coat',\n",
              " 5: 'Sandal',\n",
              " 6: 'Shirt',\n",
              " 7: 'Sneaker',\n",
              " 8: 'Bag',\n",
              " 9: 'Ankle boot'}"
            ]
          },
          "metadata": {
            "tags": []
          },
          "execution_count": 14
        }
      ]
    },
    {
      "cell_type": "code",
      "metadata": {
        "id": "QnWh6VEAzG6N"
      },
      "source": [
        "def image_matrix(img):\n",
        "    print('\\n'.join([''.join(['{:4}'.format(int(round(item*255))) for item in row]) \n",
        "      for row in img]))"
      ],
      "execution_count": 15,
      "outputs": []
    },
    {
      "cell_type": "code",
      "metadata": {
        "id": "tUP8FqSBzI92"
      },
      "source": [
        "#image_matrix(imagendemo)"
      ],
      "execution_count": 16,
      "outputs": []
    },
    {
      "cell_type": "markdown",
      "metadata": {
        "id": "1v8UhdbFethP"
      },
      "source": [
        "# Declarando la arquitectura\n"
      ]
    },
    {
      "cell_type": "code",
      "metadata": {
        "id": "MGg9OwMOUcng"
      },
      "source": [
        "def Neuronal_net_model(n_nodes_hl1=600, n_nodes_hl2=600, n_nodes_hl3=600, n_classes=10):\n",
        "  #inputs and outputs\n",
        "  x = tf.placeholder('float', [None, 784])\n",
        "  y = tf.placeholder('float')\n",
        "\n",
        "  #variables\n",
        "  hidden_layer_1 = {'weights':tf.Variable(tf.random_normal([784, n_nodes_hl1])),\n",
        "                    'biases':tf.Variable(tf.random_normal([n_nodes_hl1]))}\n",
        "\n",
        "  hidden_layer_2 = {'weights':tf.Variable(tf.random_normal([n_nodes_hl1,n_nodes_hl2])),\n",
        "                    'biases':tf.Variable(tf.random_normal([n_nodes_hl2]))}\n",
        "\n",
        "  hidden_layer_3 = {'weights':tf.Variable(tf.random_normal([n_nodes_hl2,n_nodes_hl3])),\n",
        "                    'biases':tf.Variable(tf.random_normal([n_nodes_hl3]))}\n",
        "\n",
        "  output_layer = {'weights':tf.Variable(tf.random_normal([n_nodes_hl3, n_classes])),\n",
        "                  'biases':tf.Variable(tf.random_normal([n_classes]))}\n",
        "\n",
        "  #architecture\n",
        "\n",
        "  l1 = tf.add(tf.matmul(x,hidden_layer_1['weights']), hidden_layer_1['biases'])\n",
        "  l1 = tf.nn.relu(l1)\n",
        "\n",
        "  l2 = tf.add(tf.matmul(l1,hidden_layer_2['weights']), hidden_layer_2['biases'])\n",
        "  l2 = tf.nn.relu(l2)\n",
        "\n",
        "  l3 = tf.add(tf.matmul(l2,hidden_layer_3['weights']), hidden_layer_3['biases'])\n",
        "  l3 = tf.nn.relu(l3)\n",
        "\n",
        "  output = tf.matmul(l3,output_layer['weights']) + output_layer['biases']\n",
        "\n",
        "  cost = tf.reduce_mean( tf.nn.softmax_cross_entropy_with_logits(logits=output\n",
        "                                                                 , labels=y))\n",
        "  \n",
        "  optimizer = tf.train.AdamOptimizer().minimize(cost)\n",
        "\n",
        "  return dict(\n",
        "            x=x,\n",
        "            y=y,\n",
        "            output=output,\n",
        "            cost=cost,\n",
        "            optimizer=optimizer\n",
        "            )"
      ],
      "execution_count": 17,
      "outputs": []
    },
    {
      "cell_type": "code",
      "metadata": {
        "colab": {
          "base_uri": "https://localhost:8080/"
        },
        "id": "3MkT9NG1UfgB",
        "outputId": "25c0e4bc-7e12-4d23-9939-20aa04fe8a6d"
      },
      "source": [
        "#Modelo testing\n",
        "DNN = Neuronal_net_model()"
      ],
      "execution_count": 18,
      "outputs": [
        {
          "output_type": "stream",
          "text": [
            "WARNING:tensorflow:From <ipython-input-17-abaf251c4421>:33: softmax_cross_entropy_with_logits (from tensorflow.python.ops.nn_ops) is deprecated and will be removed in a future version.\n",
            "Instructions for updating:\n",
            "\n",
            "Future major versions of TensorFlow will allow gradients to flow\n",
            "into the labels input on backprop by default.\n",
            "\n",
            "See `tf.nn.softmax_cross_entropy_with_logits_v2`.\n",
            "\n"
          ],
          "name": "stdout"
        }
      ]
    },
    {
      "cell_type": "markdown",
      "metadata": {
        "id": "pr0doBlEjNap"
      },
      "source": [
        "# Training and testing function"
      ]
    },
    {
      "cell_type": "code",
      "metadata": {
        "id": "G1aC7C3gi684"
      },
      "source": [
        "def next_bach(start, end):\n",
        "  return x_train[start:end], y_train[start:end]"
      ],
      "execution_count": 22,
      "outputs": []
    },
    {
      "cell_type": "code",
      "metadata": {
        "id": "b8irnPDhjNap"
      },
      "source": [
        "def train_neuronal_net(DNN, hm_epochs=15, batch_size=100):\n",
        "  with tf.Session() as sess:\n",
        "    sess.run(tf.global_variables_initializer())\n",
        "\n",
        "    for epoch in range(hm_epochs):\n",
        "      start = 0\n",
        "      end = start + batch_size\n",
        "      epoch_loss = 0\n",
        "      for _ in range(int(len(x_train)/batch_size)):\n",
        "        epoch_x, epoch_y = next_bach(start,end)\n",
        "        feed_dict={DNN[\"x\"]: epoch_x,\n",
        "                   DNN[\"y\"]: epoch_y}\n",
        "        _, c, prediction,y = sess.run([DNN[\"optimizer\"], DNN[\"cost\"]\n",
        "                                       , DNN[\"output\"], DNN[\"y\"]],\n",
        "                                       feed_dict=feed_dict)\n",
        "        epoch_loss += c\n",
        "        start += batch_size\n",
        "        end = start + batch_size\n",
        "\n",
        "      \n",
        "      print('Epoch', epoch, 'completed out of', hm_epochs, 'loss:', epoch_loss)\n",
        "      #print(len(epoch_x))\n",
        "    prediction,y = sess.run([DNN[\"output\"], DNN[\"y\"]], feed_dict={DNN[\"x\"]:x_test, DNN[\"y\"]:y_test})\n",
        "    correct = tf.equal(tf.argmax(prediction, 1), tf.argmax(y, 1))\n",
        "    accuracy = tf.reduce_mean(tf.cast(correct, 'float'))\n",
        "    print('Accuracy:',accuracy.eval())"
      ],
      "execution_count": 23,
      "outputs": []
    },
    {
      "cell_type": "code",
      "metadata": {
        "colab": {
          "base_uri": "https://localhost:8080/"
        },
        "id": "wz03FS5Oqz0h",
        "outputId": "ec6c8cda-b0d1-4adc-cdb8-3af861201e67"
      },
      "source": [
        "train_neuronal_net(DNN)"
      ],
      "execution_count": 24,
      "outputs": [
        {
          "output_type": "stream",
          "text": [
            "Epoch 0 completed out of 15 loss: 2688018.2045898438\n",
            "Epoch 1 completed out of 15 loss: 1045097.4406738281\n",
            "Epoch 2 completed out of 15 loss: 720653.2073669434\n",
            "Epoch 3 completed out of 15 loss: 549520.2068481445\n",
            "Epoch 4 completed out of 15 loss: 427135.04264831543\n",
            "Epoch 5 completed out of 15 loss: 334269.49922943115\n",
            "Epoch 6 completed out of 15 loss: 279153.2643661499\n",
            "Epoch 7 completed out of 15 loss: 245336.65618133545\n",
            "Epoch 8 completed out of 15 loss: 208326.01785850525\n",
            "Epoch 9 completed out of 15 loss: 186936.21293258667\n",
            "Epoch 10 completed out of 15 loss: 166583.28491592407\n",
            "Epoch 11 completed out of 15 loss: 138996.7108669281\n",
            "Epoch 12 completed out of 15 loss: 133375.59699058533\n",
            "Epoch 13 completed out of 15 loss: 114548.18531322479\n",
            "Epoch 14 completed out of 15 loss: 105917.34671163559\n",
            "Accuracy: 0.844\n"
          ],
          "name": "stdout"
        }
      ]
    },
    {
      "cell_type": "markdown",
      "metadata": {
        "id": "QclRH9GfIVw1"
      },
      "source": [
        ""
      ]
    }
  ]
}